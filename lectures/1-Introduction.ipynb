{
 "cells": [
  {
   "cell_type": "code",
   "execution_count": 1,
   "metadata": {
    "slideshow": {
     "slide_type": "skip"
    }
   },
   "outputs": [],
   "source": [
    "import numpy as np\n",
    "import matplotlib.pyplot as plt\n",
    "%matplotlib inline"
   ]
  },
  {
   "cell_type": "code",
   "execution_count": null,
   "metadata": {},
   "outputs": [],
   "source": []
  },
  {
   "cell_type": "markdown",
   "metadata": {
    "slideshow": {
     "slide_type": "slide"
    }
   },
   "source": [
    "# Machine learning & AI\n",
    "\n",
    "Jacob Trier Frederiksen og Jens Egholm Pedersen"
   ]
  },
  {
   "cell_type": "markdown",
   "metadata": {
    "slideshow": {
     "slide_type": "subslide"
    }
   },
   "source": [
    "## Jumping right in!\n",
    "\n",
    "1. Download and install Python (version 3.5+ !)\n",
    "  1. [https://python.org/downloads](https://python.org/downloads)\n",
    "2. Make sure you can access `pip` (Python package manager) from the command line\n",
    "  2. Open a console\n",
    "  3. Type `pip --version` or `pip3 --version`\n",
    "3. Install `jupyter`, `keras`, `tensorflow`, `scikit-learn`, `scikit-image` and `matplotlib` by typing:\n",
    "  1. `pip install jupyter keras tensorflow scikit-learn scikit-image matplotlib`\n",
    "4. Open a new (!) console and\n",
    "  1. Clone the GitHub repository at https://github.com/Jegp/keras_deepdream\n",
    "  2. Enter the directory of the cloned repository\n",
    "  3. Open a Jupyter notebook server by typing `jupyter notebook`\n",
    "  4. This should open your browser on `localhost:8888`. If not, go to that URL"
   ]
  },
  {
   "cell_type": "markdown",
   "metadata": {
    "slideshow": {
     "slide_type": "subslide"
    }
   },
   "source": [
    "5. Execute the Jupyter Notebook cells one by one by pressing play (▶️) or pressing Control+Enter\n",
    "  1. Some of the cells might take some time to process. Try to figure out what they're doing while you wait\n",
    "6. Modifying the behaviour of the program\n",
    "  1. Find a picture of yourself somewhere and place it as a `.jpg` in the folder\n",
    "  2. Point the variable `original_image` to your new image\n",
    "  3. Execute all the cells, starting from the one with the variable you just changed (you don't have to execute the ones above)"
   ]
  },
  {
   "cell_type": "markdown",
   "metadata": {
    "slideshow": {
     "slide_type": "subslide"
    }
   },
   "source": [
    "## Agenda\n",
    "\n",
    "* A taste of power: dreaming with AI (already done)\n",
    "* Introduction to the course\n",
    "* How to approach this course\n",
    "* Machine learning vs. AI vs. statistics\n",
    "* Machine learning wheel\n",
    "* Math primer"
   ]
  },
  {
   "cell_type": "markdown",
   "metadata": {
    "slideshow": {
     "slide_type": "slide"
    }
   },
   "source": [
    "## Introduction to the course\n",
    "\n",
    "The course provides the student with fundamental concepts in math, machine learning and deep learning. The student will acquire knowledge and skills in how to \n",
    "1. Identify appropriate business cases.\n",
    "2. Prepare and extract features from data. \n",
    "3. Construct machine learning models over data. \n",
    "4. Train, validate and optimise the models.\n",
    "5. Test prediction strength\n",
    "6. Deploy models to production. "
   ]
  },
  {
   "cell_type": "markdown",
   "metadata": {
    "slideshow": {
     "slide_type": "subslide"
    }
   },
   "source": [
    "## Knowledge \n",
    "\n",
    "The student will possess knowledge of: \n",
    "\n",
    "*      Python programming language constucts and usage of external Python APIs \n",
    "\n",
    "*      Basic linear algebra, regression, optimisation problems and techniques \n",
    "\n",
    "*      Theoretical concepts underlying supervised and unsupervised learning \n",
    "\n",
    "*      The general principles and common pitfalls of machine learning \n",
    "\n",
    "*      Representative business questions as well as machine learning tools and models to answer them"
   ]
  },
  {
   "cell_type": "markdown",
   "metadata": {
    "slideshow": {
     "slide_type": "subslide"
    }
   },
   "source": [
    "## Skills\n",
    "\n",
    "\n",
    "The students will be able to: \n",
    "\n",
    "*      Write Python scripts and programs using common language constructs in the read-eval-print-loop (REPL), \"Jupyter Notebooks\", as well as stand-alone programs \n",
    "\n",
    "*      Apply the Python libraries Scikit-learn, Numpy and Pandas to programmatically download, preprocess and analyse data \n",
    "\n",
    "*      Construct, train and validate supervised and unsupervised machine learning / deep learning models, using the Scikit-learn and Keras libraries \n",
    "\n",
    "*   Create various types of plots programmatically to share insight into data"
   ]
  },
  {
   "cell_type": "markdown",
   "metadata": {
    "slideshow": {
     "slide_type": "subslide"
    }
   },
   "source": [
    "## Competencies \n",
    "\n",
    "The students will be able to: \n",
    "\n",
    "*      Recognise and describe possible applications of machine learning \n",
    "\n",
    "*      Compare, appraise and select machine learning models methods for specific tasks \n",
    "\n",
    "*   Present and visualise data and findings \n",
    "\n",
    "*    Solve real-world data mining and pattern recognition problems by using machine learning techniques"
   ]
  },
  {
   "cell_type": "markdown",
   "metadata": {
    "slideshow": {
     "slide_type": "subslide"
    }
   },
   "source": [
    "## Platforms\n",
    "\n",
    "* Moodle for announcements\n",
    "* Website for course overview and homework\n",
    "  * https://datsoftlyngby.github.io/soft2019spring\n",
    "* GitHub for code, presentations and other materials\n",
    "* Peergrade for hand-ins\n",
    "  * You will grade each other!\n",
    "* Menti for class-based questions\n",
    "  * menti.com"
   ]
  },
  {
   "cell_type": "markdown",
   "metadata": {
    "slideshow": {
     "slide_type": "slide"
    }
   },
   "source": [
    "## About us"
   ]
  },
  {
   "cell_type": "markdown",
   "metadata": {
    "slideshow": {
     "slide_type": "subslide"
    }
   },
   "source": [
    "## Jacob Trier Frederiksen\n",
    "\n",
    "* Ph.D., Computational Astrophysics (Stockholm, 2008)\n",
    "* 5+ years of industry experience\n",
    "* 5+ years of teaching experience\n",
    "\n",
    "![](images/jacob_location.png)"
   ]
  },
  {
   "cell_type": "markdown",
   "metadata": {
    "slideshow": {
     "slide_type": "subslide"
    }
   },
   "source": [
    "## Jens Egholm Pedersen\n",
    "\n",
    "* MSc. Computer Science (IT & cognition)\n",
    "* ~5 years of industry experience\n",
    "  * Worked at CERN\n",
    "* ~3 years of teaching experience\n",
    "  * Cphbusiness, ITU\n",
    "\n",
    "![](images/jens_location.png)"
   ]
  },
  {
   "cell_type": "markdown",
   "metadata": {
    "slideshow": {
     "slide_type": "slide"
    }
   },
   "source": [
    "## How to approach this course\n",
    "\n",
    "* Being human\n",
    "* Cognitive dissonance\n",
    "* Dunning-Kruger\n",
    "* Metacognition\n"
   ]
  },
  {
   "cell_type": "markdown",
   "metadata": {
    "slideshow": {
     "slide_type": "subslide"
    }
   },
   "source": [
    "# Being human\n",
    "\n",
    "* Contrary to computers, humans are genius guessing machines"
   ]
  },
  {
   "cell_type": "markdown",
   "metadata": {
    "slideshow": {
     "slide_type": "fragment"
    }
   },
   "source": [
    "* ... Except when it comes to our own abilities"
   ]
  },
  {
   "cell_type": "markdown",
   "metadata": {
    "slideshow": {
     "slide_type": "fragment"
    }
   },
   "source": [
    "* **Cognition**: The process of thinking"
   ]
  },
  {
   "cell_type": "markdown",
   "metadata": {
    "slideshow": {
     "slide_type": "fragment"
    }
   },
   "source": [
    "* **Dissonance**: Lack of agreement"
   ]
  },
  {
   "cell_type": "markdown",
   "metadata": {
    "slideshow": {
     "slide_type": "subslide"
    }
   },
   "source": [
    "## Cognitive dissonance\n",
    "\n",
    "**The mental discomfort experienced by a person who simultaneously holds two or more contradictory beliefs, ideas, or values**"
   ]
  },
  {
   "cell_type": "markdown",
   "metadata": {
    "slideshow": {
     "slide_type": "fragment"
    }
   },
   "source": [
    "* Examples: \n",
    "  * Students who are smart, but lazy\n",
    "  * Teachers who are stuck with old technology, but think they are up-to-date\n",
    "  "
   ]
  },
  {
   "cell_type": "markdown",
   "metadata": {
    "slideshow": {
     "slide_type": "fragment"
    }
   },
   "source": [
    "* Discomfort in confrontation\n",
    "  * Tendency to ignore the dissonance\n",
    "    * Short-term rewards: Play Fortnite"
   ]
  },
  {
   "cell_type": "markdown",
   "metadata": {
    "slideshow": {
     "slide_type": "subslide"
    }
   },
   "source": [
    "## Dunning-Kruger effect\n",
    "\n",
    "* Unskilled and unaware of it: why people fail to recognise their incompetence\n"
   ]
  },
  {
   "cell_type": "markdown",
   "metadata": {
    "slideshow": {
     "slide_type": "subslide"
    }
   },
   "source": [
    "<img src=\"images/dunning-kruger.png\"/>"
   ]
  },
  {
   "cell_type": "markdown",
   "metadata": {
    "slideshow": {
     "slide_type": "fragment"
    }
   },
   "source": [
    "* This course is technical, and it's ok\n",
    "  * The best strategy is to acknowledge that you have something to learn"
   ]
  },
  {
   "cell_type": "markdown",
   "metadata": {
    "slideshow": {
     "slide_type": "fragment"
    }
   },
   "source": [
    "* If you are not failing, you are doing it wrong!\n",
    "  * \"The only one who never makes mistakes is the one who never does anything.\""
   ]
  },
  {
   "cell_type": "markdown",
   "metadata": {
    "slideshow": {
     "slide_type": "slide"
    }
   },
   "source": [
    "# Meta learning\n",
    "\n",
    "* Learning how to learn\n",
    "  * \"Being aware of and taking control of one’s own learning\" - John Biggs"
   ]
  },
  {
   "cell_type": "markdown",
   "metadata": {
    "slideshow": {
     "slide_type": "subslide"
    }
   },
   "source": [
    "You may have seen Bloom's taxonomy before.  \n",
    "The important point is that lower levels are prequisite for higher levels but higher levels powerfully reinforce lower levels.  \n",
    "\n",
    "<img src=\"images/animated.gif\"/>"
   ]
  },
  {
   "cell_type": "markdown",
   "metadata": {
    "slideshow": {
     "slide_type": "fragment"
    }
   },
   "source": [
    "* Most importantly: learning is **not** free"
   ]
  },
  {
   "cell_type": "markdown",
   "metadata": {
    "slideshow": {
     "slide_type": "slide"
    }
   },
   "source": [
    "# Metacognition\n",
    "\n",
    "A [study on metacognition](https://phys.org/news/2017-10-metacognition-boosts-gen-chem-exam.html) shows that teaching students about metacognition gives better grades:\n",
    "\n",
    "    \"The students who are successful will ask themselves—what is this question asking me to do? How does that relate\n",
    "    to what we're doing in class? Why are they giving me this question? If there's an equation, why does this equation\n",
    "    work? That's the metacognitive part. \n",
    "    If they will kick that in, they will see their grades go straight through the roof.\" \n",
    "    - Charles Atwood"
   ]
  },
  {
   "cell_type": "markdown",
   "metadata": {
    "slideshow": {
     "slide_type": "subslide"
    }
   },
   "source": [
    "## Hacking your grades\n",
    "\n",
    "* Be aware of how you think\n",
    "  * How are you currently going about it? Is that the best way?\n",
    "* **What** are you learning?\n",
    "  * And how does that fit into the bigger picture? Why is it relevant?\n",
    "* **How** are you learning?\n",
    "  * Visual, auditory etc. (modalities)\n",
    "  * Practical vs theoretical"
   ]
  },
  {
   "cell_type": "markdown",
   "metadata": {
    "slideshow": {
     "slide_type": "slide"
    }
   },
   "source": [
    "# Summary\n",
    "\n",
    "* We prepared a lot for you, and you will likely not find it easy"
   ]
  },
  {
   "cell_type": "markdown",
   "metadata": {
    "slideshow": {
     "slide_type": "fragment"
    }
   },
   "source": [
    "* You are human: fail fast"
   ]
  },
  {
   "cell_type": "markdown",
   "metadata": {
    "slideshow": {
     "slide_type": "fragment"
    }
   },
   "source": [
    "* This takes time. Seriously. Take. The. Time"
   ]
  },
  {
   "cell_type": "markdown",
   "metadata": {
    "slideshow": {
     "slide_type": "fragment"
    }
   },
   "source": [
    "* Think about how you think and learn\n",
    "  * Is it smart to attend the lectures but never work on it by yourself? \n",
    "  * Take notes!\n",
    "  * (Hint: we won't be there to help you at the exam)"
   ]
  },
  {
   "cell_type": "markdown",
   "metadata": {
    "slideshow": {
     "slide_type": "slide"
    }
   },
   "source": [
    "## Machine learning vs. AI vs. statistics\n",
    "\n",
    "![](https://www.explainxkcd.com/wiki/images/d/d3/machine_learning.png)"
   ]
  },
  {
   "cell_type": "markdown",
   "metadata": {
    "slideshow": {
     "slide_type": "subslide"
    }
   },
   "source": [
    "## Intelligence\n",
    "\n",
    "Definition: **Adaptation in the face of change** (Steven Pinker)\n",
    "\n",
    "* We want things that adapts to our problems, and that can **predict the future**"
   ]
  },
  {
   "cell_type": "markdown",
   "metadata": {
    "slideshow": {
     "slide_type": "subslide"
    }
   },
   "source": [
    "## Statistics\n",
    "\n",
    "* A very handy discipline to predict the future\n",
    "* **Models** the real world into mathematical objects (lines, curves, etc.)\n",
    "* Deals in likelihoods (80% chance of dying etc.) and large populations (requires lots of data)\n",
    "* We will use this extensively"
   ]
  },
  {
   "cell_type": "markdown",
   "metadata": {
    "slideshow": {
     "slide_type": "subslide"
    }
   },
   "source": [
    "## Machine learning (ML)\n",
    "\n",
    "Definition: **Systems that continually improve**\n",
    "\n",
    "* Why not just statistics?\n",
    "  * Because statistical models are ideal\n",
    "  \n",
    "* Machine learning models are **highly** parameterised\n",
    "  * $10^{6}$ knobs"
   ]
  },
  {
   "cell_type": "markdown",
   "metadata": {
    "slideshow": {
     "slide_type": "subslide"
    }
   },
   "source": [
    "## Artificial intelligence (AI)\n",
    "\n",
    "* ... It sounds cool"
   ]
  },
  {
   "cell_type": "markdown",
   "metadata": {
    "slideshow": {
     "slide_type": "fragment"
    }
   },
   "source": [
    "* Seriously, AI can be defined as **intelligent agents**\n",
    "  * *Agents that adapts in the face of change*"
   ]
  },
  {
   "cell_type": "markdown",
   "metadata": {
    "slideshow": {
     "slide_type": "fragment"
    }
   },
   "source": [
    "* Disappoingly, AI is still very stupid\n",
    "  * But we will work with models that adapt to data, gaining power of prediction and generalization (contrary to statistics)"
   ]
  },
  {
   "cell_type": "markdown",
   "metadata": {
    "slideshow": {
     "slide_type": "slide"
    }
   },
   "source": [
    "# Machine learning wheel\n",
    "\n",
    "@cyberomin: \"You don't need AI, you need SQL\""
   ]
  },
  {
   "cell_type": "markdown",
   "metadata": {
    "slideshow": {
     "slide_type": "subslide"
    }
   },
   "source": [
    "<img src = \"images/MLWheel.png\" style=\"width:50%\">"
   ]
  },
  {
   "cell_type": "markdown",
   "metadata": {
    "slideshow": {
     "slide_type": "subslide"
    }
   },
   "source": [
    "## Using math\n",
    "\n",
    "* No AI without ML, no ML without statistics, no statistics without math"
   ]
  },
  {
   "cell_type": "markdown",
   "metadata": {
    "slideshow": {
     "slide_type": "fragment"
    }
   },
   "source": [
    "* Yep that's right. If you want to be good at AI, you **have** to understand the math!\n",
    "  * Luckily, because AI is fun, likewise math can be fun"
   ]
  },
  {
   "cell_type": "markdown",
   "metadata": {
    "slideshow": {
     "slide_type": "fragment"
    }
   },
   "source": [
    "* Math is many things\n",
    "  * Basic algebra\n",
    "  * Linear algebra\n",
    "  * Probabilities\n",
    "  * Calculus"
   ]
  },
  {
   "cell_type": "markdown",
   "metadata": {
    "slideshow": {
     "slide_type": "slide"
    }
   },
   "source": [
    "# Math foundations\n",
    "\n",
    "* Understanding \"mathy\" notation\n",
    "* Working with simple linear algebra\n",
    "* Basic probability tools\n",
    "* Reading the 100 page ML book!"
   ]
  },
  {
   "cell_type": "markdown",
   "metadata": {
    "slideshow": {
     "slide_type": "subslide"
    }
   },
   "source": [
    "## Understanding mathy notation\n",
    "\n",
    "* Math is essentially code. You can convert everything in math into Python"
   ]
  },
  {
   "cell_type": "markdown",
   "metadata": {
    "slideshow": {
     "slide_type": "subslide"
    }
   },
   "source": [
    "Math: $w = 1$\n",
    "\n",
    "Python: \n",
    "```python\n",
    "w = 1\n",
    "```"
   ]
  },
  {
   "cell_type": "markdown",
   "metadata": {
    "slideshow": {
     "slide_type": "subslide"
    }
   },
   "source": [
    "Math: f(x) = x\n",
    "\n",
    "Python:\n",
    "```python\n",
    "def f(x):\n",
    "    return x\n",
    "\n",
    "f = lamba x: x\n",
    "```"
   ]
  },
  {
   "cell_type": "markdown",
   "metadata": {
    "slideshow": {
     "slide_type": "subslide"
    }
   },
   "source": [
    "Math: $m = \\begin{bmatrix} -2 \\\\ 0 \\\\ 1 \\end{bmatrix}$\n",
    "\n",
    "Python:\n",
    "```python\n",
    "m = np.array([-2, 0, 1])\n",
    "```"
   ]
  },
  {
   "cell_type": "markdown",
   "metadata": {
    "slideshow": {
     "slide_type": "subslide"
    }
   },
   "source": [
    "Math: $v = \\begin{bmatrix} -2 & 0 & 1 \\\\ 5 & -4 & 2 \\\\ 7 & -1 & 3\\end{bmatrix}$\n",
    "\n",
    "Python:\n",
    "```python\n",
    "v = np.array([[-2, 0, 1], [5, -4, 2], [7, -1, 3]])\n",
    "```\n",
    "\n",
    "So; to be consistent...."
   ]
  },
  {
   "cell_type": "markdown",
   "metadata": {
    "slideshow": {
     "slide_type": "subslide"
    }
   },
   "source": [
    "![](images/column_row_numpy.png)"
   ]
  },
  {
   "cell_type": "markdown",
   "metadata": {
    "slideshow": {
     "slide_type": "subslide"
    }
   },
   "source": [
    "## Your turn\n",
    "\n",
    "* Create a new Jupyter Notebook\n",
    "* Make sure you have `numpy` installed by typing\n",
    "  * `import numpy as np`\n",
    "  \n",
    "  \n",
    "* Write $f(x) = x ^ 2$\n",
    "* Write $g(x) = {1 \\over 10^{-x}}$\n",
    "* Write $h(x) = g(x) + 2$\n",
    "* Write $v = \\begin{bmatrix} -2 \\\\ 0 \\\\ 1 \\end{bmatrix}$\n",
    "* Write $y = h(v)$"
   ]
  },
  {
   "cell_type": "markdown",
   "metadata": {
    "slideshow": {
     "slide_type": "subslide"
    }
   },
   "source": [
    "## Creating lists of stuff with Numpy\n",
    "\n",
    "Math: $v = [0  \\dots 100]$\n",
    "\n",
    "Python:\n",
    "```python\n",
    "v = np.arange(0, 100)\n",
    "```"
   ]
  },
  {
   "cell_type": "code",
   "execution_count": null,
   "metadata": {
    "slideshow": {
     "slide_type": "subslide"
    }
   },
   "outputs": [],
   "source": [
    "np.arange(0, 100)"
   ]
  },
  {
   "cell_type": "markdown",
   "metadata": {
    "slideshow": {
     "slide_type": "subslide"
    }
   },
   "source": [
    "## Plotting stuff with Matplotlib"
   ]
  },
  {
   "cell_type": "code",
   "execution_count": null,
   "metadata": {
    "slideshow": {
     "slide_type": "fragment"
    }
   },
   "outputs": [],
   "source": [
    "plt.plot(np.arange(0, 100))"
   ]
  },
  {
   "cell_type": "code",
   "execution_count": null,
   "metadata": {
    "slideshow": {
     "slide_type": "subslide"
    }
   },
   "outputs": [],
   "source": [
    "xs = np.arange(0, 100)\n",
    "ys = []\n",
    "for x in xs:\n",
    "    ys.append(x ** 2)\n",
    "plt.plot(xs, ys)"
   ]
  },
  {
   "cell_type": "code",
   "execution_count": null,
   "metadata": {
    "slideshow": {
     "slide_type": "subslide"
    }
   },
   "outputs": [],
   "source": [
    "xs = np.arange(0, 100)\n",
    "ys = [x ** 2 for x in xs]\n",
    "plt.plot(xs, ys)"
   ]
  },
  {
   "cell_type": "markdown",
   "metadata": {
    "slideshow": {
     "slide_type": "subslide"
    }
   },
   "source": [
    "## Your turn!\n",
    "\n",
    "* Make sure you have matplotlib installed by typing `import matplotlib.pyplot as plt`\n",
    "* To view the graphs *inline* in your notebook add:\n",
    "  * `%matplotlib inline` (yes, with a `%`)\n",
    "  \n",
    "  \n",
    "* Plot $f(x) = x ** 2$\n",
    "* Plot $g(y) = y * \\pi$ \n",
    "* Plot $h(z) = g(z) * cos(z)$"
   ]
  },
  {
   "cell_type": "markdown",
   "metadata": {
    "slideshow": {
     "slide_type": "slide"
    }
   },
   "source": [
    "## Reading the 100 page ML book\n",
    "\n",
    "1. Don't give up\n",
    "2. Realise that it takes a looooong time\n",
    "3. Ask questions when you don't understand\n",
    "  * Suggestion: make a list of questions"
   ]
  },
  {
   "cell_type": "markdown",
   "metadata": {
    "slideshow": {
     "slide_type": "subslide"
    }
   },
   "source": [
    "## A dimension\n",
    "\n",
    "* A vector, $\\textbf{v}$, of length $n$ \"lives\" in a vector space of $n$ dimensions, you all know this\n",
    "  * The length of $n$, `len(v)` is the number of elements in that vector\n",
    "  * Think about a vector in a 2D vector space: $\\textbf{v} = [x, y]$, and in 3D: $\\textbf{v} = [x, y, z]$"
   ]
  },
  {
   "cell_type": "markdown",
   "metadata": {
    "slideshow": {
     "slide_type": "subslide"
    }
   },
   "source": [
    "## A feature vector\n",
    "\n",
    "\"A feature vector is a vector in which each dimension $j = 1, \\dots , D$ contains a value that describes the example somehow.\"\n",
    "\n",
    "* \"A feature vector is a vector in which...\" \n",
    "  * This means that we have an unnamed vector that we're trying to define\n",
    "* \"each dimension $j = 1, \\dots , D$\"\n",
    "  * Now we know we have a variable $j$ and that $j$ contains a number of things\n",
    "  * The thing starts with the 1 and ends with D -- Oh, a second variable!\n",
    "  * What is D? ... Could be 100; let's say it's 100\n",
    "  * So D is the number of dimensions, then D must be the length! And if D is 100 then the unnamed feature vector is 100 elements long\n",
    "* \"contains a value that describes the example\"\n",
    "  * Ok, so each thing inside the unnamed vector (the thing with number $1, \\dots, D$) helps us describe one piece of example data\n",
    "  * Ok, that must mean that element $1$ is describing something different that element $2$\n",
    "  * ... I don't understand much more, let's move on!"
   ]
  },
  {
   "cell_type": "markdown",
   "metadata": {
    "slideshow": {
     "slide_type": "subslide"
    }
   },
   "source": [
    "\"That value is called a *feature* and is denoted as $x^j$\"\n",
    "\n",
    "* Ok, so now we have a name for our list called $x$\n",
    "* We also heard that each single element (the ones with numbers $1, \\dots, D$) is called a **feature**\n",
    "  * And each element is uniquely identifiable by $j$: $x^j$\n",
    "  * Hey, I've seen that before! That's an index!\n",
    "  * Ahhhh, easy, so this just means that I can look at an element in the vector by it's index!\n",
    "  * ... Oh, and that element is then for some reason called a *feature*"
   ]
  },
  {
   "cell_type": "code",
   "execution_count": null,
   "metadata": {
    "slideshow": {
     "slide_type": "subslide"
    }
   },
   "outputs": [],
   "source": [
    "# We have a vector x of 1, ..., D elements\n",
    "D = 100\n",
    "x = np.arange(1, D + 1)\n",
    "\n",
    "# Apparently we can look up a certain element in the list given j:\n",
    "j = 1\n",
    "x[j]"
   ]
  },
  {
   "cell_type": "code",
   "execution_count": null,
   "metadata": {
    "slideshow": {
     "slide_type": "subslide"
    }
   },
   "outputs": [],
   "source": [
    "# Be careful with indexing!\n",
    "print(x[0])\n",
    "print(x[1])"
   ]
  },
  {
   "cell_type": "markdown",
   "metadata": {
    "slideshow": {
     "slide_type": "subslide"
    }
   },
   "source": [
    "A **feature vector** is then simply just a list where we can look an element up by its index.\n",
    "\n",
    "Math: $x^1$\n",
    "\n",
    "Python:\n",
    "```python\n",
    "x[0]\n",
    "    ```\n",
    "\n",
    "Math: $x^{100}$\n",
    "\n",
    "Python: \n",
    "```python\n",
    "x[99]\n",
    "```\n"
   ]
  },
  {
   "cell_type": "markdown",
   "metadata": {
    "slideshow": {
     "slide_type": "subslide"
    }
   },
   "source": [
    "## Feature vectors as descriptions of things\n",
    "\n",
    "Let's say we have a Person class:\n",
    "\n",
    "```python\n",
    "\n",
    "class Person:\n",
    "    \n",
    "    def __init__(self, age, height):\n",
    "        self.age = age\n",
    "        self.height = height\n",
    "```\n",
    "\n",
    "A Person is described by two **features**: `age` and `height`\n",
    "\n",
    "* So a **feature vector** for a person would have 2 dimensions\n",
    "  * $x^1 = $ age\n",
    "  * $x^2 = $ height"
   ]
  },
  {
   "cell_type": "markdown",
   "metadata": {
    "slideshow": {
     "slide_type": "subslide"
    }
   },
   "source": [
    "## Feature vectors in high dimensions\n",
    "\n",
    "* Imagine an image with the resolution `1024 x 800`\n",
    "  * How many pixels does that image have?"
   ]
  },
  {
   "cell_type": "markdown",
   "metadata": {
    "slideshow": {
     "slide_type": "fragment"
    }
   },
   "source": [
    "* That image has `1024 * 800 = 819200` features!\n",
    "```python\n",
    "x[0]      # First feature\n",
    "x[819199] # Last feature\n",
    "```"
   ]
  },
  {
   "cell_type": "markdown",
   "metadata": {
    "slideshow": {
     "slide_type": "fragment"
    }
   },
   "source": [
    "* BUT Wait a moment....! How many was that?? (monochrome, each pixel is a bit (0/1))\n",
    "  * For an RGB image the number of features is, rather, `1024 * 800 * 3 = 2457600` features!\n"
   ]
  },
  {
   "cell_type": "markdown",
   "metadata": {
    "slideshow": {
     "slide_type": "fragment"
    }
   },
   "source": [
    "* The image that you processed in the beginning of the class had `1602 * 896 = 4306176` features."
   ]
  },
  {
   "cell_type": "code",
   "execution_count": null,
   "metadata": {},
   "outputs": [],
   "source": []
  }
 ],
 "metadata": {
  "celltoolbar": "Slideshow",
  "kernelspec": {
   "display_name": "Python 3",
   "language": "python",
   "name": "python3"
  },
  "language_info": {
   "codemirror_mode": {
    "name": "ipython",
    "version": 3
   },
   "file_extension": ".py",
   "mimetype": "text/x-python",
   "name": "python",
   "nbconvert_exporter": "python",
   "pygments_lexer": "ipython3",
   "version": "3.7.1"
  }
 },
 "nbformat": 4,
 "nbformat_minor": 2
}
