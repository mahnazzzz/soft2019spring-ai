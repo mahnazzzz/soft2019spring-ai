{
 "cells": [
  {
   "cell_type": "markdown",
   "metadata": {
    "slideshow": {
     "slide_type": "slide"
    }
   },
   "source": [
    "# Decision Tree Classifiers"
   ]
  },
  {
   "cell_type": "markdown",
   "metadata": {
    "slideshow": {
     "slide_type": "subslide"
    }
   },
   "source": [
    "## Theory -- Explained by Examples.\n",
    "### Workings of a Binary Classifier"
   ]
  },
  {
   "cell_type": "markdown",
   "metadata": {
    "slideshow": {
     "slide_type": "subslide"
    }
   },
   "source": [
    "Predict people go golfing, based on people that went golfing under certain weather conditions.\n",
    "\n",
    "![Golfing](images/golfing.png)"
   ]
  },
  {
   "cell_type": "markdown",
   "metadata": {
    "slideshow": {
     "slide_type": "subslide"
    }
   },
   "source": [
    "## Objective\n",
    "Separate classes maximally in a tree structure, i.e. minimize _Entropy_, or maximize _Information Gain_.\n",
    "\n",
    "![Golfing](images/golfing.png)"
   ]
  },
  {
   "cell_type": "markdown",
   "metadata": {
    "slideshow": {
     "slide_type": "subslide"
    }
   },
   "source": [
    "## A look at the data\n",
    "- Feature values = [sunny, overcast, rainy]\n",
    "- Target = [play]\n",
    "- Target values = [yes, no]  (hence 'binary' classification)\n",
    "\n",
    "- play golf?\n",
    "  - Outlook\n",
    "    - sunny   : yes=3, no=2\n",
    "    - overcast: yes=4, no=0\n",
    "    - sunny   : yes=2, no=3\n",
    "  - Temperature\n",
    "    - hot : yes=2, no=2\n",
    "    - mild: yes=...\n",
    "    \n",
    "The Shannon Entropy Measure\n",
    "\n",
    "$${\\bf H}( {\\bf X}) = - \\sum_{i=1}^n P(x_i)\\textrm{log}_2P(x_i),$$\n",
    "\n",
    "- If data _all_ true, or _all_ false, then $H = 0$ (minimal entropy, or \"mess\" in the data set).\n",
    "- If data are perfectly mixed (equally divided), then $H = 1$ (maximal entropy)."
   ]
  },
  {
   "cell_type": "markdown",
   "metadata": {
    "slideshow": {
     "slide_type": "subslide"
    }
   },
   "source": [
    "## Shannon Entropy, and entropy in data.\n",
    "The Shannon Entropy Measure measures how clear data are separable.\n",
    "\n",
    "$${\\bf H}( {\\bf X}) = - \\sum_{i=1}^n P(x_i)\\textrm{log}_2P(x_i),$$\n",
    "\n",
    "- If data _all_ true, or _all_ false, then $H = 0$ (minimal entropy, or \"mess\" in the data set).\n",
    "- If data are perfectly mixed (equally divided), then $H = 1$ (maximal entropy)."
   ]
  },
  {
   "cell_type": "markdown",
   "metadata": {
    "slideshow": {
     "slide_type": "fragment"
    }
   },
   "source": [
    "We have 9 times 'yes' and 5 times 'no' for label 'play'. Leading to \n",
    "\n",
    "$$H('play') = - 0.64*Log2(0.64) - 0.36*Log2(0.36) = 0.94,$$\n",
    "\n",
    "since 9+5=14, 9/14=0.64, and 5/14=0.36.\n"
   ]
  },
  {
   "cell_type": "markdown",
   "metadata": {
    "slideshow": {
     "slide_type": "subslide"
    }
   },
   "source": [
    "## Tree Node Construction\n",
    "- Iterate through _all_ features (outlook, temperature, etc...)\n",
    "- For _all_ features iterate through _all_ ranges of values\n",
    "\n",
    "Then we get the following result:  "
   ]
  },
  {
   "cell_type": "markdown",
   "metadata": {
    "slideshow": {
     "slide_type": "subslide"
    }
   },
   "source": [
    "## Information Gain\n",
    "Is defined as \n",
    "\n",
    "$$ \\mathcal{G} \\equiv {\\bf H}({\\bf X}) - {\\bf E}({\\bf T},{\\bf X}),$$\n",
    "\n",
    "where \n",
    "\n",
    "$${\\bf E}({\\bf T},{\\bf X}) = \\sum_x P({\\bf x})E({\\bf x}).$$\n",
    "\n",
    "The Information Gain for 'outlook', with our table data becomes:\n",
    "\n",
    "$$ \\frac{5}{14} \\cdot 0.971 \\frac{5}{14} \\cdot 0.0 \\frac{5}{14} \\cdot 0.971 = 0.247 .$$\n",
    "\n",
    "For all the features, we get \n",
    "- **0.247 for 'outlook'**\n",
    "- **0.029 for 'temperature'**\n",
    "- **0.152 for 'humidity'**\n",
    "- **0.048 for 'wind'**\n",
    "\n",
    "Concluding that the decision should first split on the 'outlook' feature, since this yields the most information."
   ]
  },
  {
   "cell_type": "markdown",
   "metadata": {
    "slideshow": {
     "slide_type": "subslide"
    }
   },
   "source": [
    "### Training \"result\"\n",
    "We get a tree something like this:\n",
    "![TreeResult](images/tree_result.png)"
   ]
  },
  {
   "cell_type": "markdown",
   "metadata": {
    "slideshow": {
     "slide_type": "slide"
    }
   },
   "source": [
    "# Classifying the Iris Data Set\n",
    "### Objective\n",
    "- get the data\n",
    "- select the features\n",
    "- train a model (make the tree)\n",
    "- plot the tree\n",
    "- understand the idea"
   ]
  },
  {
   "cell_type": "markdown",
   "metadata": {
    "slideshow": {
     "slide_type": "subslide"
    }
   },
   "source": [
    "## Introducing the iris dataset\n",
    "\n",
    "![Iris](images/03_iris.png)\n",
    "\n",
    "- 50 samples of 3 different species of iris (150 samples total)\\n\",\n",
    "- Measurements: sepal length, sepal width, petal length, petal width"
   ]
  },
  {
   "cell_type": "code",
   "execution_count": null,
   "metadata": {
    "slideshow": {
     "slide_type": "slide"
    }
   },
   "outputs": [],
   "source": [
    "from sklearn.datasets import load_iris"
   ]
  },
  {
   "cell_type": "code",
   "execution_count": null,
   "metadata": {
    "slideshow": {
     "slide_type": "fragment"
    }
   },
   "outputs": [],
   "source": [
    "from sklearn.tree import DecisionTreeClassifier"
   ]
  },
  {
   "cell_type": "code",
   "execution_count": null,
   "metadata": {
    "slideshow": {
     "slide_type": "fragment"
    }
   },
   "outputs": [],
   "source": [
    "iris = load_iris()"
   ]
  },
  {
   "cell_type": "code",
   "execution_count": null,
   "metadata": {
    "slideshow": {
     "slide_type": "fragment"
    }
   },
   "outputs": [],
   "source": [
    "iris"
   ]
  },
  {
   "cell_type": "code",
   "execution_count": null,
   "metadata": {
    "slideshow": {
     "slide_type": "subslide"
    }
   },
   "outputs": [],
   "source": [
    "iris.target_names"
   ]
  },
  {
   "cell_type": "code",
   "execution_count": null,
   "metadata": {
    "slideshow": {
     "slide_type": "fragment"
    }
   },
   "outputs": [],
   "source": [
    "iris.feature_names"
   ]
  },
  {
   "cell_type": "code",
   "execution_count": null,
   "metadata": {
    "slideshow": {
     "slide_type": "subslide"
    }
   },
   "outputs": [],
   "source": [
    "# Select number of features (btween 2 and 4, really).\n",
    "n_features = 4"
   ]
  },
  {
   "cell_type": "code",
   "execution_count": null,
   "metadata": {
    "slideshow": {
     "slide_type": "fragment"
    }
   },
   "outputs": [],
   "source": [
    "X = iris.data[:,-n_features:]\n",
    "\n",
    "# Get the target values (classes)\n",
    "y = iris.target"
   ]
  },
  {
   "cell_type": "code",
   "execution_count": null,
   "metadata": {
    "slideshow": {
     "slide_type": "fragment"
    }
   },
   "outputs": [],
   "source": [
    "X, y"
   ]
  },
  {
   "cell_type": "code",
   "execution_count": null,
   "metadata": {
    "slideshow": {
     "slide_type": "subslide"
    }
   },
   "outputs": [],
   "source": [
    "tree_clf = DecisionTreeClassifier(max_depth=3)"
   ]
  },
  {
   "cell_type": "code",
   "execution_count": null,
   "metadata": {
    "scrolled": true,
    "slideshow": {
     "slide_type": "fragment"
    }
   },
   "outputs": [],
   "source": [
    "tree_clf.fit(X,y)"
   ]
  },
  {
   "cell_type": "markdown",
   "metadata": {},
   "source": [
    "Get the _'Graphviz'_ package with your favourite package manager: \n",
    "\n",
    "`$ conda install graphviz`\n",
    "\n",
    "Then convert the graph to PNG in your command line:\n",
    "\n",
    "`$ dot -Tpng iris_tree.dot -o iris_tree.png`"
   ]
  },
  {
   "cell_type": "code",
   "execution_count": null,
   "metadata": {
    "slideshow": {
     "slide_type": "subslide"
    }
   },
   "outputs": [],
   "source": [
    "from sklearn.tree import export_graphviz\n",
    "import io"
   ]
  },
  {
   "cell_type": "code",
   "execution_count": null,
   "metadata": {
    "slideshow": {
     "slide_type": "fragment"
    }
   },
   "outputs": [],
   "source": [
    "export_graphviz(\n",
    "    tree_clf, \n",
    "    out_file=\"iris_tree.dot\",\n",
    "    feature_names=iris.feature_names[-n_features:],\n",
    "    class_names=iris.target_names,\n",
    "    rounded=True,\n",
    "    filled=True\n",
    ")\n"
   ]
  },
  {
   "cell_type": "markdown",
   "metadata": {
    "slideshow": {
     "slide_type": "subslide"
    }
   },
   "source": [
    "Or we can do it in the notebook directly...\n",
    "...after we install the graphviz in the right place:\n",
    "\n",
    "`$ conda install python-graphviz`"
   ]
  },
  {
   "cell_type": "code",
   "execution_count": null,
   "metadata": {
    "slideshow": {
     "slide_type": "fragment"
    }
   },
   "outputs": [],
   "source": [
    "from sklearn import tree\n",
    "import graphviz \n",
    "dot_data = tree.export_graphviz(tree_clf, out_file=None) \n",
    "graph = graphviz.Source(dot_data) \n",
    "graph.render(\"iris\") "
   ]
  },
  {
   "cell_type": "code",
   "execution_count": null,
   "metadata": {
    "slideshow": {
     "slide_type": "subslide"
    }
   },
   "outputs": [],
   "source": [
    "dot_data = tree.export_graphviz(tree_clf, out_file=None, \n",
    "                      feature_names=iris.feature_names,  \n",
    "                      class_names=iris.target_names,  \n",
    "                      filled=True, rounded=True,  \n",
    "                      special_characters=True)  \n",
    "graph = graphviz.Source(dot_data)  \n",
    "graph "
   ]
  },
  {
   "cell_type": "code",
   "execution_count": null,
   "metadata": {
    "slideshow": {
     "slide_type": "subslide"
    }
   },
   "outputs": [],
   "source": [
    "prediction = tree_clf.predict([[5.1, 3.5, 1.4, 0.2],\n",
    "        [4.9, 3. , 1.4, 0.2],\n",
    "        [4.7, 3.2, 1.3, 0.2],\n",
    "        [4.6, 3.1, 1.5, 0.2],\n",
    "        [5. , 3.6, 1.4, 0.2],\n",
    "        [5.4, 3.9, 1.7, 0.4],\n",
    "        [4.6, 3.4, 1.4, 0.3],\n",
    "        [5. , 3.4, 1.5, 0.2],\n",
    "        [4.4, 2.9, 1.4, 0.2],\n",
    "        [4.9, 3.1, 1.5, 0.1],\n",
    "        [5.4, 3.7, 1.5, 0.2],\n",
    "        [4.8, 3.4, 1.6, 0.2],\n",
    "        [4.8, 3. , 1.4, 0.1],\n",
    "        [4.3, 3. , 1.1, 0.1],\n",
    "        [5.8, 4. , 1.2, 0.2],\n",
    "        [5.7, 4.4, 1.5, 0.4],\n",
    "        [5.4, 3.9, 1.3, 0.4],\n",
    "        [5.1, 3.5, 1.4, 0.3],\n",
    "        [5.7, 3.8, 1.7, 0.3],\n",
    "        [5.1, 3.8, 1.5, 0.3],\n",
    "        [5.4, 3.4, 1.7, 0.2],\n",
    "        [5.1, 3.7, 1.5, 0.4],\n",
    "        [4.6, 3.6, 1. , 0.2],\n",
    "        [5.1, 3.3, 1.7, 0.5],\n",
    "        [4.8, 3.4, 1.9, 0.2],\n",
    "        [5. , 3. , 1.6, 0.2],\n",
    "        [5. , 3.4, 1.6, 0.4],\n",
    "        [5.2, 3.5, 1.5, 0.2],\n",
    "        [5.2, 3.4, 1.4, 0.2],\n",
    "        [4.7, 3.2, 1.6, 0.2],\n",
    "        [4.8, 3.1, 1.6, 0.2],\n",
    "        [5.4, 3.4, 1.5, 0.4],\n",
    "        [5.2, 4.1, 1.5, 0.1],\n",
    "        [5.5, 4.2, 1.4, 0.2],\n",
    "        [4.9, 3.1, 1.5, 0.2],\n",
    "        [5. , 3.2, 1.2, 0.2],\n",
    "        [5.5, 3.5, 1.3, 0.2],\n",
    "        [4.9, 3.6, 1.4, 0.1],\n",
    "        [4.4, 3. , 1.3, 0.2],\n",
    "        [5.1, 3.4, 1.5, 0.2],\n",
    "        [5. , 3.5, 1.3, 0.3],\n",
    "        [4.5, 2.3, 1.3, 0.3],\n",
    "        [4.4, 3.2, 1.3, 0.2],\n",
    "        [5. , 3.5, 1.6, 0.6],\n",
    "        [5.1, 3.8, 1.9, 0.4],\n",
    "        [4.8, 3. , 1.4, 0.3],\n",
    "        [5.1, 3.8, 1.6, 0.2],\n",
    "        [4.6, 3.2, 1.4, 0.2],\n",
    "        [5.3, 3.7, 1.5, 0.2],\n",
    "        [5. , 3.3, 1.4, 0.2],\n",
    "        [7. , 3.2, 4.7, 1.4],\n",
    "        [6.4, 3.2, 4.5, 1.5],\n",
    "        [6.9, 3.1, 4.9, 1.5],\n",
    "        [5.5, 2.3, 4. , 1.3],\n",
    "        [6.5, 2.8, 4.6, 1.5],\n",
    "        [5.7, 2.8, 4.5, 1.3],\n",
    "        [6.3, 3.3, 4.7, 1.6],\n",
    "        [4.9, 2.4, 3.3, 1. ],\n",
    "        [6.6, 2.9, 4.6, 1.3],\n",
    "        [5.2, 2.7, 3.9, 1.4],\n",
    "        [5. , 2. , 3.5, 1. ],\n",
    "        [5.9, 3. , 4.2, 1.5],\n",
    "        [6. , 2.2, 4. , 1. ],\n",
    "        [6.1, 2.9, 4.7, 1.4],\n",
    "        [5.6, 2.9, 3.6, 1.3],\n",
    "        [6.7, 3.1, 4.4, 1.4],\n",
    "        [5.6, 3. , 4.5, 1.5],\n",
    "        [5.8, 2.7, 4.1, 1. ],\n",
    "        [6.2, 2.2, 4.5, 1.5],\n",
    "        [5.6, 2.5, 3.9, 1.1],\n",
    "        [5.9, 3.2, 4.8, 1.8],\n",
    "        [6.1, 2.8, 4. , 1.3],\n",
    "        [6.3, 2.5, 4.9, 1.5],\n",
    "        [6.1, 2.8, 4.7, 1.2],\n",
    "        [6.4, 2.9, 4.3, 1.3],\n",
    "        [6.6, 3. , 4.4, 1.4],\n",
    "        [6.8, 2.8, 4.8, 1.4],\n",
    "        [6.7, 3. , 5. , 1.7],\n",
    "        [6. , 2.9, 4.5, 1.5],\n",
    "        [5.7, 2.6, 3.5, 1. ],\n",
    "        [5.5, 2.4, 3.8, 1.1],\n",
    "        [5.5, 2.4, 3.7, 1. ],\n",
    "        [5.8, 2.7, 3.9, 1.2],\n",
    "        [6. , 2.7, 5.1, 1.6],\n",
    "        [5.4, 3. , 4.5, 1.5],\n",
    "        [6. , 3.4, 4.5, 1.6],\n",
    "        [6.7, 3.1, 4.7, 1.5],\n",
    "        [6.3, 2.3, 4.4, 1.3],\n",
    "        [5.6, 3. , 4.1, 1.3],\n",
    "        [5.5, 2.5, 4. , 1.3],\n",
    "        [5.5, 2.6, 4.4, 1.2],\n",
    "        [6.1, 3. , 4.6, 1.4],\n",
    "        [5.8, 2.6, 4. , 1.2],\n",
    "        [5. , 2.3, 3.3, 1. ],\n",
    "        [5.6, 2.7, 4.2, 1.3],\n",
    "        [5.7, 3. , 4.2, 1.2],\n",
    "        [5.7, 2.9, 4.2, 1.3],\n",
    "        [6.2, 2.9, 4.3, 1.3],\n",
    "        [5.1, 2.5, 3. , 1.1],\n",
    "        [5.7, 2.8, 4.1, 1.3],\n",
    "        [6.3, 3.3, 6. , 2.5],\n",
    "        [5.8, 2.7, 5.1, 1.9],\n",
    "        [7.1, 3. , 5.9, 2.1],\n",
    "        [6.3, 2.9, 5.6, 1.8],\n",
    "        [6.5, 3. , 5.8, 2.2],\n",
    "        [7.6, 3. , 6.6, 2.1],\n",
    "        [4.9, 2.5, 4.5, 1.7],\n",
    "        [7.3, 2.9, 6.3, 1.8],\n",
    "        [6.7, 2.5, 5.8, 1.8],\n",
    "        [7.2, 3.6, 6.1, 2.5],\n",
    "        [6.5, 3.2, 5.1, 2. ],\n",
    "        [6.4, 2.7, 5.3, 1.9],\n",
    "        [6.8, 3. , 5.5, 2.1],\n",
    "        [5.7, 2.5, 5. , 2. ],\n",
    "        [5.8, 2.8, 5.1, 2.4],\n",
    "        [6.4, 3.2, 5.3, 2.3],\n",
    "        [6.5, 3. , 5.5, 1.8],\n",
    "        [7.7, 3.8, 6.7, 2.2],\n",
    "        [7.7, 2.6, 6.9, 2.3],\n",
    "        [6. , 2.2, 5. , 1.5],\n",
    "        [6.9, 3.2, 5.7, 2.3],\n",
    "        [5.6, 2.8, 4.9, 2. ],\n",
    "        [7.7, 2.8, 6.7, 2. ],\n",
    "        [6.3, 2.7, 4.9, 1.8],\n",
    "        [6.7, 3.3, 5.7, 2.1],\n",
    "        [7.2, 3.2, 6. , 1.8],\n",
    "        [6.2, 2.8, 4.8, 1.8],\n",
    "        [6.1, 3. , 4.9, 1.8],\n",
    "        [6.4, 2.8, 5.6, 2.1],\n",
    "        [7.2, 3. , 5.8, 1.6],\n",
    "        [7.4, 2.8, 6.1, 1.9],\n",
    "        [7.9, 3.8, 6.4, 2. ],\n",
    "        [6.4, 2.8, 5.6, 2.2],\n",
    "        [6.3, 2.8, 5.1, 1.5],\n",
    "        [6.1, 2.6, 5.6, 1.4],\n",
    "        [7.7, 3. , 6.1, 2.3],\n",
    "        [6.3, 3.4, 5.6, 2.4],\n",
    "        [6.4, 3.1, 5.5, 1.8],\n",
    "        [6. , 3. , 4.8, 1.8],\n",
    "        [6.9, 3.1, 5.4, 2.1],\n",
    "        [6.7, 3.1, 5.6, 2.4],\n",
    "        [6.9, 3.1, 5.1, 2.3],\n",
    "        [5.8, 2.7, 5.1, 1.9],\n",
    "        [6.8, 3.2, 5.9, 2.3],\n",
    "        [6.7, 3.3, 5.7, 2.5],\n",
    "        [6.7, 3. , 5.2, 2.3],\n",
    "        [6.3, 2.5, 5. , 1.9],\n",
    "        [6.5, 3. , 5.2, 2. ],\n",
    "        [6.2, 3.4, 5.4, 2.3],\n",
    "        [5.9, 3. , 5.1, 1.8]])"
   ]
  },
  {
   "cell_type": "code",
   "execution_count": null,
   "metadata": {
    "slideshow": {
     "slide_type": "subslide"
    }
   },
   "outputs": [],
   "source": [
    "prediction"
   ]
  },
  {
   "cell_type": "code",
   "execution_count": null,
   "metadata": {
    "slideshow": {
     "slide_type": "fragment"
    }
   },
   "outputs": [],
   "source": [
    "len(prediction)"
   ]
  },
  {
   "cell_type": "code",
   "execution_count": null,
   "metadata": {
    "slideshow": {
     "slide_type": "fragment"
    }
   },
   "outputs": [],
   "source": [
    "prediction - iris.target"
   ]
  },
  {
   "cell_type": "markdown",
   "metadata": {
    "slideshow": {
     "slide_type": "subslide"
    }
   },
   "source": [
    "Strange; should have been all zeroes.... but why?"
   ]
  },
  {
   "cell_type": "code",
   "execution_count": null,
   "metadata": {},
   "outputs": [],
   "source": []
  }
 ],
 "metadata": {
  "celltoolbar": "Slideshow",
  "kernelspec": {
   "display_name": "Python 3",
   "language": "python",
   "name": "python3"
  },
  "language_info": {
   "codemirror_mode": {
    "name": "ipython",
    "version": 3
   },
   "file_extension": ".py",
   "mimetype": "text/x-python",
   "name": "python",
   "nbconvert_exporter": "python",
   "pygments_lexer": "ipython3",
   "version": "3.7.1"
  }
 },
 "nbformat": 4,
 "nbformat_minor": 2
}
