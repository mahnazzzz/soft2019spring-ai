{
 "cells": [
  {
   "cell_type": "markdown",
   "metadata": {
    "slideshow": {
     "slide_type": "slide"
    }
   },
   "source": [
    "# Fundamentals\n",
    "\n",
    "1. Dot product\n",
    "2. Matrix multiplication\n",
    "3. Sets\n",
    "4. Gradients"
   ]
  },
  {
   "cell_type": "code",
   "execution_count": 2,
   "metadata": {},
   "outputs": [
    {
     "name": "stdout",
     "output_type": "stream",
     "text": [
      "Populating the interactive namespace from numpy and matplotlib\n"
     ]
    }
   ],
   "source": [
    "%pylab inline"
   ]
  },
  {
   "cell_type": "code",
   "execution_count": 1,
   "metadata": {
    "slideshow": {
     "slide_type": "subslide"
    }
   },
   "outputs": [],
   "source": [
    "import numpy as np\n",
    "import matplotlib.pyplot as plt\n",
    "%matplotlib inline"
   ]
  },
  {
   "cell_type": "markdown",
   "metadata": {
    "slideshow": {
     "slide_type": "subslide"
    }
   },
   "source": [
    "## Vector dot product\n",
    "\n",
    "* $\\mathbf{\\color{red}a}\\cdot\\mathbf{\\color{blue}b}=\\sum_{i=1}^n {\\color{red}a}_i{\\color{blue}b}_i={\\color{red}a}_1{\\color{blue}b}_1+{\\color{red}a}_2{\\color{blue}b}_2+\\cdots+{\\color{red}a}_n{\\color{blue}b}_n$\n",
    "\n",
    "* Also called the *inner* product"
   ]
  },
  {
   "cell_type": "code",
   "execution_count": 3,
   "metadata": {
    "slideshow": {
     "slide_type": "subslide"
    }
   },
   "outputs": [
    {
     "data": {
      "text/plain": [
       "13"
      ]
     },
     "execution_count": 3,
     "metadata": {},
     "output_type": "execute_result"
    }
   ],
   "source": [
    "v = np.array([1, 5])\n",
    "u = np.array([-2, 3])\n",
    "np.dot(v, u)"
   ]
  },
  {
   "cell_type": "code",
   "execution_count": 4,
   "metadata": {
    "slideshow": {
     "slide_type": "subslide"
    }
   },
   "outputs": [
    {
     "data": {
      "text/plain": [
       "0"
      ]
     },
     "execution_count": 4,
     "metadata": {},
     "output_type": "execute_result"
    }
   ],
   "source": [
    "v = np.array([0, 0])\n",
    "u = np.array([0, 0])\n",
    "np.dot(v, u)"
   ]
  },
  {
   "cell_type": "code",
   "execution_count": 5,
   "metadata": {
    "slideshow": {
     "slide_type": "subslide"
    }
   },
   "outputs": [
    {
     "data": {
      "text/plain": [
       "-2"
      ]
     },
     "execution_count": 5,
     "metadata": {},
     "output_type": "execute_result"
    }
   ],
   "source": [
    "v = np.array([2, 0])\n",
    "u = np.array([-1, 20])\n",
    "np.dot(v, u)"
   ]
  },
  {
   "cell_type": "code",
   "execution_count": 6,
   "metadata": {
    "slideshow": {
     "slide_type": "subslide"
    }
   },
   "outputs": [
    {
     "data": {
      "text/plain": [
       "0"
      ]
     },
     "execution_count": 6,
     "metadata": {},
     "output_type": "execute_result"
    }
   ],
   "source": [
    "v = np.array([1, 5])\n",
    "u = np.array([-5, 1])\n",
    "np.dot(v, u)"
   ]
  },
  {
   "cell_type": "markdown",
   "metadata": {
    "slideshow": {
     "slide_type": "subslide"
    }
   },
   "source": [
    "## Dot product intuition\n",
    "\n",
    "* The dot product is the sum of all the elements multiplied\n",
    "* Large when vectors are going in the same direction\n",
    "* 0 when vectors are perpendicular\n",
    "* Cool to find angles between vectors (later)"
   ]
  },
  {
   "cell_type": "markdown",
   "metadata": {
    "slideshow": {
     "slide_type": "fragment"
    }
   },
   "source": [
    "This video explains it well: https://www.khanacademy.org/math/linear-algebra/vectors-and-spaces/dot-cross-products/v/vector-dot-product-and-vector-length"
   ]
  },
  {
   "cell_type": "markdown",
   "metadata": {
    "slideshow": {
     "slide_type": "subslide"
    }
   },
   "source": [
    "### Matrix multiplication\n",
    "* 'Simply' the dot product of all the columns and rows\n",
    "![](https://upload.wikimedia.org/wikipedia/commons/thumb/e/eb/Matrix_multiplication_diagram_2.svg/313px-Matrix_multiplication_diagram_2.svg.png)"
   ]
  },
  {
   "cell_type": "markdown",
   "metadata": {
    "slideshow": {
     "slide_type": "subslide"
    }
   },
   "source": [
    "## Sets"
   ]
  },
  {
   "cell_type": "markdown",
   "metadata": {
    "slideshow": {
     "slide_type": "subslide"
    }
   },
   "source": [
    "* Empty set: $Ø = \\{\\}$\n",
    "* Non-empty set: $\\{1\\}$\n",
    "* Non-empty set: $\\{Red, Green\\}$\n",
    "* Distinct\n",
    "  * Set of the list $[1, 2, 2, 3]$ is $\\{1, 2, 3\\}$\n",
    "  * Set of $[Red, Green, Yellow, Green]$ is $\\{Red, Green, Yellow\\}$\n",
    "* Order doesn't matter\n",
    "  * $\\{Red, Green\\} == \\{Green, Red\\}$"
   ]
  },
  {
   "cell_type": "markdown",
   "metadata": {
    "slideshow": {
     "slide_type": "subslide"
    }
   },
   "source": [
    "## Different sets\n",
    "\n",
    "* The empty set, $Ø = \\{\\}$\n",
    "* All the students in this class\n",
    "* All the natural numbers, $\\mathbb{N} = \\{0, 1, 2, 3, 4 \\dots\\}$"
   ]
  },
  {
   "cell_type": "markdown",
   "metadata": {
    "slideshow": {
     "slide_type": "fragment"
    }
   },
   "source": [
    "\n",
    "* All the integers, $\\mathbb{Z} = \\{-\\infty, \\dots, -1, 0, 1, \\dots, \\infty\\}$\n",
    "* All the rational numbers $\\mathbb{Q} = \\{0, -2, 10, \\frac{-2832}{123}, \\frac{72}{1923892}, \\frac{67821}{1298732}\\}$\n",
    "* All the real numbers, $\\mathbb{R} = \\{0, -2, 10, \\frac{-2832}{123}, \\frac{72}{1923892}, \\frac{67821}{1298732}, \\sqrt 2, \\pi, \\dots\\}$"
   ]
  },
  {
   "cell_type": "markdown",
   "metadata": {
    "slideshow": {
     "slide_type": "subslide"
    }
   },
   "source": [
    "## Set membership\n",
    "\n",
    "* $4 \\in \\{1, 2, 3, 4, 5\\}$\n",
    "  * 4 **is a member of** the set $\\{1, 2, 3, 4, 5\\}$\n",
    "* $7 \\notin \\{1, 2, 3, 4, 5\\}$\n",
    "  * 7 **is not a member of** the set $\\{1, 2, 3, 4, 5\\}$"
   ]
  },
  {
   "cell_type": "markdown",
   "metadata": {
    "slideshow": {
     "slide_type": "subslide"
    }
   },
   "source": [
    "## Exercise on sets\n",
    "\n",
    "<table>\n",
    "    <tr><td>\n",
    "<ul>\n",
    "    <li>$4 \\in \\mathbb{R}$</li>\n",
    "<li>$\\pi \\in \\mathbb{Q}$</li>\n",
    "<li>$\\frac{2}{3} \\in \\mathbb{R}$</li>\n",
    "<li>$\\sqrt 2 \\notin \\mathbb{Q}$</li>\n",
    "<li>$-5 \\in \\mathbb{N}$</li>\n",
    "        <li>$log(7) \\notin \\mathbb{Q}$</li>\n",
    "        </td>\n",
    "        <td><img src=\"numbersystem.png\"/></td>\n",
    "    </tr>\n",
    "    </table>"
   ]
  },
  {
   "cell_type": "markdown",
   "metadata": {
    "slideshow": {
     "slide_type": "subslide"
    }
   },
   "source": [
    "## Derivations\n",
    "\n",
    "* A function $f$ has a derivation $f'$.\n",
    "  * The derivation of $f$ around the point $x$, shows the slope (gradient) of that function around $x$:"
   ]
  },
  {
   "cell_type": "markdown",
   "metadata": {
    "slideshow": {
     "slide_type": "subslide"
    }
   },
   "source": [
    "## Example 1\n",
    "  * $f(x) = x^2$\n",
    "  * $f'(x) = 2x$"
   ]
  },
  {
   "cell_type": "code",
   "execution_count": null,
   "metadata": {
    "slideshow": {
     "slide_type": "skip"
    }
   },
   "outputs": [],
   "source": [
    "plt.plot(np.arange(-10, 10), np.arange(-10, 10) ** 2)"
   ]
  },
  {
   "cell_type": "code",
   "execution_count": 7,
   "metadata": {
    "slideshow": {
     "slide_type": "subslide"
    }
   },
   "outputs": [
    {
     "data": {
      "text/plain": [
       "[<matplotlib.lines.Line2D at 0x7f122dbece10>]"
      ]
     },
     "execution_count": 7,
     "metadata": {},
     "output_type": "execute_result"
    },
    {
     "data": {
      "image/png": "[encoded data removed]",
      "text/plain": [
       "<Figure size 432x288 with 1 Axes>"
      ]
     },
     "metadata": {
      "needs_background": "light"
     },
     "output_type": "display_data"
    }
   ],
   "source": [
    "plt.plot(np.arange(-10, 10), np.arange(-10, 10) ** 2)\n",
    "plt.plot(np.arange(-10, 10), np.arange(-10, 10) * 2)"
   ]
  },
  {
   "cell_type": "markdown",
   "metadata": {
    "slideshow": {
     "slide_type": "subslide"
    }
   },
   "source": [
    "## Example 2\n",
    "\n",
    "* $f(x) = cos(x)$\n",
    "* $f'(x) = -sin(x)$"
   ]
  },
  {
   "cell_type": "code",
   "execution_count": 8,
   "metadata": {
    "slideshow": {
     "slide_type": "fragment"
    }
   },
   "outputs": [
    {
     "data": {
      "text/plain": [
       "[<matplotlib.lines.Line2D at 0x7f122bb40390>]"
      ]
     },
     "execution_count": 8,
     "metadata": {},
     "output_type": "execute_result"
    },
    {
     "data": {
      "image/png": "[encoded data removed]",
      "text/plain": [
       "<Figure size 432x288 with 1 Axes>"
      ]
     },
     "metadata": {
      "needs_background": "light"
     },
     "output_type": "display_data"
    }
   ],
   "source": [
    "plt.plot(np.arange(-2, 2, 0.1), np.cos(np.arange(-2, 2, 0.1)))\n",
    "plt.plot(np.arange(-2, 2, 0.1), -np.sin(np.arange(-2, 2, 0.1)))"
   ]
  },
  {
   "cell_type": "markdown",
   "metadata": {
    "slideshow": {
     "slide_type": "subslide"
    }
   },
   "source": [
    "## Example 3\n",
    "\n",
    "* f(x) = x\n",
    "* f'(x) = ?"
   ]
  },
  {
   "cell_type": "code",
   "execution_count": 9,
   "metadata": {
    "slideshow": {
     "slide_type": "fragment"
    }
   },
   "outputs": [
    {
     "data": {
      "text/plain": [
       "[<matplotlib.lines.Line2D at 0x7f122babb748>]"
      ]
     },
     "execution_count": 9,
     "metadata": {},
     "output_type": "execute_result"
    },
    {
     "data": {
      "image/png": "[encoded data removed]",
      "text/plain": [
       "<Figure size 432x288 with 1 Axes>"
      ]
     },
     "metadata": {
      "needs_background": "light"
     },
     "output_type": "display_data"
    }
   ],
   "source": [
    "plt.plot(np.arange(-10, 10), np.arange(-10, 10))\n",
    "plt.plot(np.arange(-10, 10), np.repeat(1, 20))"
   ]
  }
 ],
 "metadata": {
  "celltoolbar": "Slideshow",
  "kernelspec": {
   "display_name": "Python 3",
   "language": "python",
   "name": "python3"
  },
  "language_info": {
   "codemirror_mode": {
    "name": "ipython",
    "version": 3
   },
   "file_extension": ".py",
   "mimetype": "text/x-python",
   "name": "python",
   "nbconvert_exporter": "python",
   "pygments_lexer": "ipython3",
   "version": "3.6.7"
  }
 },
 "nbformat": 4,
 "nbformat_minor": 2
}
